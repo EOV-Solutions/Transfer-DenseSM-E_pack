{
 "cells": [
  {
   "cell_type": "markdown",
   "id": "07d1339c",
   "metadata": {},
   "source": [
    "Đối với dữ liệu soil moisture 100m, chúng ta sẽ chọn điểm ngẫu nhiên trên các vùng có dữ liệu do Planet cung cấp. Phương pháp chọn như sau:\n",
    "- Chia vùng dữ liệu thành các grid 1km, lọc và giữ lại các ô có phần lớn diện tích là crop, tree và grass.\n",
    "- Với mỗi ô được giữ lại, chọn một điểm ngẫu nhiên trong đó. "
   ]
  },
  {
   "cell_type": "code",
   "execution_count": 1,
   "id": "dfed8cbf",
   "metadata": {},
   "outputs": [],
   "source": [
    "import ee\n",
    "import geemap\n",
    "ee.Initialize()"
   ]
  },
  {
   "cell_type": "markdown",
   "id": "112644a5",
   "metadata": {},
   "source": [
    "### Get Dynamic World V1 tif image over the ROI in Inidia and China\n",
    "\n",
    "Đã tải về nên không cần chạy lại nữa các ảnh land cover được lưu trong các đường dẫn:\n",
    "* India: training_data/100m/india/map/dw_india.tif\n",
    "* China: training_data/100m/china/map/dw_china.tif"
   ]
  },
  {
   "cell_type": "code",
   "execution_count": null,
   "id": "0242ebaa",
   "metadata": {},
   "outputs": [
    {
     "data": {
      "text/html": [
       "\n",
       "            <style>\n",
       "                .geemap-dark {\n",
       "                    --jp-widgets-color: white;\n",
       "                    --jp-widgets-label-color: white;\n",
       "                    --jp-ui-font-color1: white;\n",
       "                    --jp-layout-color2: #454545;\n",
       "                    background-color: #383838;\n",
       "                }\n",
       "\n",
       "                .geemap-dark .jupyter-button {\n",
       "                    --jp-layout-color3: #383838;\n",
       "                }\n",
       "\n",
       "                .geemap-colab {\n",
       "                    background-color: var(--colab-primary-surface-color, white);\n",
       "                }\n",
       "\n",
       "                .geemap-colab .jupyter-button {\n",
       "                    --jp-layout-color3: var(--colab-primary-surface-color, white);\n",
       "                }\n",
       "            </style>\n",
       "            "
      ],
      "text/plain": [
       "<IPython.core.display.HTML object>"
      ]
     },
     "metadata": {},
     "output_type": "display_data"
    }
   ],
   "source": [
    "import ee\n",
    "ee.Initialize()\n",
    "\n",
    "START = '2022-10-01'\n",
    "END = '2022-10-31'\n",
    "\n",
    "# Your region of interest\n",
    "# geojson_path = 'china/map/china_grid.geojson'\n",
    "# roi = geemap.geojson_to_ee(geojson_path)\n",
    "\n",
    "# Chú ý cần thay đổi đường dẫn đến file geojson của bạn\n",
    "roi = ee.FeatureCollection('projects/ee-lengocthanh/assets/china_grid').geometry()\n",
    "\n",
    "dw = ee.ImageCollection('GOOGLE/DYNAMICWORLD/V1') \\\n",
    "    .filterDate(START, END) \\\n",
    "    .filterBounds(roi) \\\n",
    "    .select('label') \\\n",
    "    .mode()\n",
    "\n",
    "# Export as GeoTIFF\n",
    "task = ee.batch.Export.image.toDrive(\n",
    "    image=dw,\n",
    "    description='dw_china',\n",
    "    folder='gee_exports',\n",
    "    fileNamePrefix='dw_mode_2022',\n",
    "    region=roi.bounds(),\n",
    "    scale=10,\n",
    "    crs='EPSG:4326',\n",
    "    maxPixels=1e13\n",
    ")\n",
    "task.start()\n"
   ]
  },
  {
   "cell_type": "markdown",
   "id": "5244e60a",
   "metadata": {},
   "source": [
    "### Filter and retain grid cells meeting the requirements"
   ]
  },
  {
   "cell_type": "code",
   "execution_count": 1,
   "id": "9659a3c2",
   "metadata": {},
   "outputs": [],
   "source": [
    "import geopandas as gpd\n",
    "import rasterio\n",
    "import rasterio.mask\n",
    "import numpy as np\n",
    "import pandas as pd\n",
    "root_path = \"/mnt/data2tb/Transfer-DenseSM-E_pack/training_data/100m\"\n",
    "region = 'china'\n",
    "\n",
    "# Load and convert your grid to EPSG:4326\n",
    "grid = gpd.read_file(f\"{root_path}/{region}/map/{region}_grid.gpkg\").to_crs(\"EPSG:4326\")\n",
    "\n",
    "# Open the Dynamic World image (already downloaded as GeoTIFF)\n",
    "with rasterio.open(f\"{root_path}/{region}/map/dw_{region}.tif\") as src:\n",
    "    results = []\n",
    "\n",
    "    for idx, row in grid.iterrows():\n",
    "        geom = [row['geometry']]\n",
    "        try:\n",
    "            out_image, out_transform = rasterio.mask.mask(src, geom, crop=True)\n",
    "            label_pixels = out_image[0]\n",
    "            valid_pixels = label_pixels[label_pixels != src.nodata]\n",
    "            \n",
    "            if len(valid_pixels) == 0:\n",
    "                continue\n",
    "            \n",
    "            # Count frequencies\n",
    "            unique, counts = np.unique(valid_pixels, return_counts=True)\n",
    "            label_count = dict(zip(unique, counts))\n",
    "\n",
    "            # Sum up pixels for labels 1 (tree), 2 (grass), 4 (crop)\n",
    "            selected_total = sum(label_count.get(k, 0) for k in [6])\n",
    "            total = sum(counts)\n",
    "\n",
    "            percent = selected_total / total * 100\n",
    "\n",
    "            if percent > 30:\n",
    "                results.append(row['id'])  # or use row.name, or any identifier\n",
    "\n",
    "        except Exception as e:\n",
    "            print(f\"Failed on grid cell {row['id']}: {e}\")\n",
    "\n",
    "all_ids = grid['id']\n",
    "\n",
    "# Create a new GeoDataFrame with only the selected grid cells\n",
    "selected_grid = grid[grid['id'].isin(results)]\n",
    "\n",
    "# Save to GPKG\n",
    "selected_grid.to_file(f\"{root_path}/{region}/map/filtered_grid/built_delete.gpkg\", driver=\"GPKG\")\n"
   ]
  },
  {
   "cell_type": "markdown",
   "id": "f32476bd",
   "metadata": {},
   "source": [
    "### Không thể dùng code chung để chọn điểm lấy dữ liệu trên vùng Trung Quốc và Ấn Độ\n",
    "\n",
    "Bởi vì có sự đặc biệt ở vùng lấy dữ liệu tại Trung Quốc. Ở đó đa số toàn đồi núi do đó, nếu lấy điểm ngẫu nhiên trong các grid cell được lọc sẽ thường rơi vào các vùng là rừng núi. Cách giải quyết đó là, xét trong từng grid cell, nếu tại ô đó có vùng crop sẽ chọn điểm ngẫu nhiên trên crop, còn không có crop trong ô, thì sẽ phải bắt buộc chọn điểm ngẫu nhiên trên vùng rừng núi.\n",
    "\n",
    "Còn với Ấn Độ, vùng lấy dữ liệu là đồng bằng nên không cần phải làm phức tạp như vậy. Chỉ đơn giản là chọn điểm ngẫu nhiên trong từng grid cell"
   ]
  },
  {
   "cell_type": "markdown",
   "id": "bcff8999",
   "metadata": {},
   "source": [
    "### Choose random points for India"
   ]
  },
  {
   "cell_type": "code",
   "execution_count": null,
   "id": "6eaee2ba",
   "metadata": {},
   "outputs": [
    {
     "data": {
      "text/html": [
       "\n",
       "            <style>\n",
       "                .geemap-dark {\n",
       "                    --jp-widgets-color: white;\n",
       "                    --jp-widgets-label-color: white;\n",
       "                    --jp-ui-font-color1: white;\n",
       "                    --jp-layout-color2: #454545;\n",
       "                    background-color: #383838;\n",
       "                }\n",
       "\n",
       "                .geemap-dark .jupyter-button {\n",
       "                    --jp-layout-color3: #383838;\n",
       "                }\n",
       "\n",
       "                .geemap-colab {\n",
       "                    background-color: var(--colab-primary-surface-color, white);\n",
       "                }\n",
       "\n",
       "                .geemap-colab .jupyter-button {\n",
       "                    --jp-layout-color3: var(--colab-primary-surface-color, white);\n",
       "                }\n",
       "            </style>\n",
       "            "
      ],
      "text/plain": [
       "<IPython.core.display.HTML object>"
      ]
     },
     "metadata": {},
     "output_type": "display_data"
    }
   ],
   "source": [
    "import geopandas as gpd\n",
    "import shapely\n",
    "import random\n",
    "import pandas as pd\n",
    "\n",
    "# Read the grid from a GPKG file\n",
    "grid = gpd.read_file(\"china/map/filtered_grid/tree_grass_crops.gpkg\").to_crs(\"EPSG:4326\")\n",
    "\n",
    "points = []\n",
    "# Traverse each grid cell in the filtered GeoDataFrame\n",
    "for idx, row in grid.iterrows():\n",
    "    polygon = row['geometry']\n",
    "    grid_id = row['id']\n",
    "    # Generate a random point within the polygon\n",
    "    minx, miny, maxx, maxy = polygon.bounds\n",
    "    while True:\n",
    "        random_point = shapely.geometry.Point(random.uniform(minx, maxx), random.uniform(miny, maxy))\n",
    "        if polygon.contains(random_point):\n",
    "            break\n",
    "    points.append({'id': grid_id, 'lon': random_point.x, 'lat': random_point.y})\n",
    "\n",
    "# Save to CSV\n",
    "points_df = pd.DataFrame(points)\n",
    "points_df.to_csv(\"china/map/filtered_grid/random_points_in_filtered_grid_old.csv\", index=False)"
   ]
  },
  {
   "cell_type": "markdown",
   "id": "f95f42e7",
   "metadata": {},
   "source": [
    "### Choose random points for China"
   ]
  },
  {
   "cell_type": "code",
   "execution_count": null,
   "id": "210bc1bb",
   "metadata": {},
   "outputs": [
    {
     "data": {
      "text/html": [
       "\n",
       "            <style>\n",
       "                .geemap-dark {\n",
       "                    --jp-widgets-color: white;\n",
       "                    --jp-widgets-label-color: white;\n",
       "                    --jp-ui-font-color1: white;\n",
       "                    --jp-layout-color2: #454545;\n",
       "                    background-color: #383838;\n",
       "                }\n",
       "\n",
       "                .geemap-dark .jupyter-button {\n",
       "                    --jp-layout-color3: #383838;\n",
       "                }\n",
       "\n",
       "                .geemap-colab {\n",
       "                    background-color: var(--colab-primary-surface-color, white);\n",
       "                }\n",
       "\n",
       "                .geemap-colab .jupyter-button {\n",
       "                    --jp-layout-color3: var(--colab-primary-surface-color, white);\n",
       "                }\n",
       "            </style>\n",
       "            "
      ],
      "text/plain": [
       "<IPython.core.display.HTML object>"
      ]
     },
     "metadata": {},
     "output_type": "display_data"
    }
   ],
   "source": [
    "import rasterio.mask\n",
    "import rasterio.transform\n",
    "import numpy as np\n",
    "\n",
    "# Paths to filtered grid and land cover raster files\n",
    "grid_path = \"china/map/filtered_grid/tree_grass_crops.gpkg\"\n",
    "dw_tif_path = \"china/map/dw_china.tif\"\n",
    "\n",
    "grid = gpd.read_file(grid_path).to_crs(\"EPSG:4326\")\n",
    "\n",
    "points = []\n",
    "\n",
    "# Open land cover raster\n",
    "with rasterio.open(dw_tif_path) as src:\n",
    "    for idx, row in grid.iterrows():\n",
    "        polygon = row['geometry']\n",
    "        grid_id = row['id']\n",
    "        geom = [polygon]\n",
    "\n",
    "        try: \n",
    "            out_image, out_transform = rasterio.mask.mask(src, geom, crop=True)\n",
    "            label_pixels = out_image[0]\n",
    "            valid_mask = label_pixels != src.nodata\n",
    "\n",
    "            # find crop pixels (label : 4)\n",
    "            crop_mask = (label_pixels == 4) & valid_mask \n",
    "            \n",
    "            # If there are crop pixels in the grid cell, choose a random one\n",
    "            if np.any(crop_mask):\n",
    "                # Get indices of crop_pixels\n",
    "                crop_indices = np.argwhere(crop_mask)\n",
    "                # Choose a random crop pixel\n",
    "                y, x = crop_indices[random.randint(0, len(crop_indices)-1)]\n",
    "                # convert pixel indices to coordinates \n",
    "                lon, lat = rasterio.transform.xy(out_transform, y, x)\n",
    "            \n",
    "            else:\n",
    "                # No crop region, pick random point in grid cell\n",
    "                minx, miny, maxx, maxy = polygon.bounds \n",
    "                while True:\n",
    "                    random_point = shapely.geometry.Point(random.uniform(minx, maxx), random.uniform(miny, maxy))\n",
    "                    if polygon.contains(random_point):\n",
    "                        lon, lat = random_point.x, random_point.y\n",
    "                        break\n",
    "            points.append({'id': grid_id, 'lon': lon, 'lat': lat})\n",
    "        \n",
    "        except Exception as e:\n",
    "            print(f\"Failed on grid cell {grid_id} : {e}\")\n",
    "\n",
    "# Save to CSV\n",
    "points_df = pd.DataFrame(points)\n",
    "points_df.to_csv(\"china/map/filtered_grid/random_points_in_filtered_grid.csv\", index=False)           \n"
   ]
  }
 ],
 "metadata": {
  "kernelspec": {
   "display_name": "soil_moisture",
   "language": "python",
   "name": "python3"
  },
  "language_info": {
   "codemirror_mode": {
    "name": "ipython",
    "version": 3
   },
   "file_extension": ".py",
   "mimetype": "text/x-python",
   "name": "python",
   "nbconvert_exporter": "python",
   "pygments_lexer": "ipython3",
   "version": "3.10.16"
  }
 },
 "nbformat": 4,
 "nbformat_minor": 5
}
