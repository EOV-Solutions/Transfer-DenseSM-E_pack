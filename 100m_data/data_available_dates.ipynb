{
 "cells": [
  {
   "cell_type": "code",
   "execution_count": 1,
   "id": "c6569e9c",
   "metadata": {},
   "outputs": [],
   "source": [
    "import ee \n",
    "import pandas \n"
   ]
  },
  {
   "cell_type": "code",
   "execution_count": 2,
   "id": "a1141695",
   "metadata": {},
   "outputs": [],
   "source": [
    "ee.Initialize()"
   ]
  },
  {
   "cell_type": "markdown",
   "id": "d1f9c955",
   "metadata": {},
   "source": [
    "### For ROI in India and China"
   ]
  },
  {
   "cell_type": "code",
   "execution_count": 4,
   "id": "235f7498",
   "metadata": {},
   "outputs": [],
   "source": [
    "polygon_coords = [[\n",
    "        [102.1445, 23.3937],\n",
    "        [109.4462, 23.3937],\n",
    "        [109.4462, 8.3439],\n",
    "        [102.1445, 8.3439],\n",
    "        [102.1445, 23.3937]\n",
    "    ]]\n",
    "\n",
    "\"\"\"{\"type\":\"Polygon\",\"coordinates\":[[\n",
    "[37.95826023542673,-1.230450106759613],\n",
    "[37.95762785043055,-1.447358160448246],\n",
    "[37.741352181738094,-1.447990545444423],\n",
    "[37.74261695173045,-1.229817721763436],\n",
    "[37.95826023542673,-1.230450106759613]]]}\"\"\"\n",
    "\n",
    "region = ee.Geometry.Polygon(polygon_coords)\n",
    "\n",
    "start_date = '2017-01-01'\n",
    "end_date = '2022-12-31'\n",
    "\n",
    "# Create a point geometry \n",
    "\n",
    "# Create a Sentinel-1 image collection\n",
    "collection = ee.ImageCollection('COPERNICUS/S1_GRD') \\\n",
    "    .filterBounds(region) \\\n",
    "    .filterDate(start_date, end_date) \\\n",
    "    .filter(ee.Filter.eq('instrumentMode', 'IW')) \\\n",
    "    .filter(ee.Filter.eq('platform_number', 'A')) \\\n",
    "    .select(['VV', 'VH']) \n",
    "\n",
    "\n",
    "def extract_metadata(image):\n",
    "    return ee.Feature(None, {\n",
    "        'date': image.date().format('YYYY-MM-dd'),\n",
    "        'orbit_pass': image.get('orbitProperties_pass')\n",
    "    })\n",
    "\n",
    "features = collection.map(extract_metadata).distinct(['date', 'orbit_pass'])\n",
    "date = features.aggregate_array('date').getInfo()\n",
    "orbit_pass = features.aggregate_array('orbit_pass').getInfo()\n",
    "\n",
    "# Create a DataFrame from the metadata\n",
    "df = pandas.DataFrame({\n",
    "    'date': date,\n",
    "    'orbit_pass': orbit_pass\n",
    "})\n",
    "\n",
    "df['time'] = df['date'].astype(str)\n",
    "df = df.sort_values(by='date', ascending=True)\n",
    "\n",
    "df.to_csv('vietnam_s1_metadata.csv', index=False)"
   ]
  },
  {
   "cell_type": "markdown",
   "id": "adb1227d",
   "metadata": {},
   "source": [
    "### For 1km data"
   ]
  },
  {
   "cell_type": "markdown",
   "id": "b15f1b03",
   "metadata": {},
   "source": [
    "#### Get s1 dates for grid cells"
   ]
  },
  {
   "cell_type": "code",
   "execution_count": null,
   "id": "02f9f264",
   "metadata": {},
   "outputs": [],
   "source": [
    "import ee\n",
    "import geopandas as gpd\n",
    "import json\n",
    "import os\n",
    "import time\n",
    "# Authenticate and initialize Earth Engine\n",
    "ee.Initialize()\n",
    "\n",
    "# === INPUT ===\n",
    "grid_file = \"1km/filtered_grid_40km_with_points.gpkg\"  # Must contain a 'grid_id' column\n",
    "output_dir = \"1km/s1_dates_per_grid\"\n",
    "os.makedirs(output_dir, exist_ok=True)\n",
    "\n",
    "# === Load grid geometries ===\n",
    "grid_gdf = gpd.read_file(grid_file).to_crs(\"EPSG:4326\")\n",
    "\n",
    "# === Helper function ===\n",
    "def get_s1_dates(geom, start_date, end_date, orbit_pass):\n",
    "    ee_geom = ee.Geometry(geom.__geo_interface__)\n",
    "    s1 = ee.ImageCollection(\"COPERNICUS/S1_GRD\") \\\n",
    "        .filterDate(start_date, end_date) \\\n",
    "        .filterBounds(ee_geom) \\\n",
    "        .filter(ee.Filter.eq(\"instrumentMode\", \"IW\")) \\\n",
    "        .filter(ee.Filter.eq(\"orbitProperties_pass\", orbit_pass)) \\\n",
    "        .select([\"VV\", \"VH\"])\n",
    "    \n",
    "    dates = s1.aggregate_array(\"system:time_start\").getInfo()\n",
    "    unique_dates = sorted(set([\n",
    "        ee.Date(d).format(\"YYYY-MM-dd\").getInfo() for d in dates\n",
    "    ]))\n",
    "    return unique_dates\n",
    "\n",
    "# === Process each grid cell ===\n",
    "for _, row in grid_gdf.iterrows():\n",
    "    grid_id = row[\"id\"]\n",
    "    geom = row[\"geometry\"]\n",
    "    if os.path.exists(os.path.join(output_dir, f\"s1_dates_{grid_id}.json\")):\n",
    "        continue\n",
    "    try:\n",
    "        ascending_dates = get_s1_dates(geom, \"2021-01-01\", \"2022-12-31\", \"ASCENDING\")\n",
    "        descending_dates = get_s1_dates(geom, \"2021-01-01\", \"2022-12-31\", \"DESCENDING\")\n",
    "\n",
    "        if not ascending_dates and not descending_dates:\n",
    "            print(f\"No Sentinel-1 data for {grid_id}\")\n",
    "            continue\n",
    "\n",
    "        out_data = {\n",
    "            \"grid_id\": grid_id,\n",
    "            \"ascending\": ascending_dates,\n",
    "            \"descending\": descending_dates\n",
    "        }\n",
    "\n",
    "        out_path = os.path.join(output_dir, f\"s1_dates_{grid_id}.json\")\n",
    "        with open(out_path, \"w\") as f:\n",
    "            json.dump(out_data, f)\n",
    "\n",
    "        print(f\"Saved dates for {grid_id}: {len(ascending_dates)} ASC, {len(descending_dates)} DESC\")\n",
    "\n",
    "        time.sleep(5)\n",
    "\n",
    "    except Exception as e:\n",
    "        print(f\"Failed for {grid_id}: {e}\")\n"
   ]
  }
 ],
 "metadata": {
  "kernelspec": {
   "display_name": "soil_moisture",
   "language": "python",
   "name": "python3"
  },
  "language_info": {
   "codemirror_mode": {
    "name": "ipython",
    "version": 3
   },
   "file_extension": ".py",
   "mimetype": "text/x-python",
   "name": "python",
   "nbconvert_exporter": "python",
   "pygments_lexer": "ipython3",
   "version": "3.10.16"
  }
 },
 "nbformat": 4,
 "nbformat_minor": 5
}
