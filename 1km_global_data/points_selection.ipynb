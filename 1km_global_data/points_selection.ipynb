{
 "cells": [
  {
   "cell_type": "code",
   "execution_count": 1,
   "id": "dfed8cbf",
   "metadata": {},
   "outputs": [],
   "source": [
    "import ee\n",
    "import geemap\n",
    "ee.Initialize()"
   ]
  },
  {
   "cell_type": "markdown",
   "id": "112644a5",
   "metadata": {},
   "source": [
    "### Get Dynamic World V1 tif image over the ROI\n",
    "We use landCover from Dynamic World data to determine the area we want to get soil moisture. There are three areas that need to be concerned:\n",
    "\n",
    "1 . tree\n",
    "\n",
    "2 . grass\n",
    "\n",
    "4 . crop\n",
    "\n",
    "1, 2, 4 is the id in the Dynamic World data."
   ]
  },
  {
   "cell_type": "code",
   "execution_count": null,
   "id": "0242ebaa",
   "metadata": {},
   "outputs": [
    {
     "data": {
      "text/html": [
       "\n",
       "            <style>\n",
       "                .geemap-dark {\n",
       "                    --jp-widgets-color: white;\n",
       "                    --jp-widgets-label-color: white;\n",
       "                    --jp-ui-font-color1: white;\n",
       "                    --jp-layout-color2: #454545;\n",
       "                    background-color: #383838;\n",
       "                }\n",
       "\n",
       "                .geemap-dark .jupyter-button {\n",
       "                    --jp-layout-color3: #383838;\n",
       "                }\n",
       "\n",
       "                .geemap-colab {\n",
       "                    background-color: var(--colab-primary-surface-color, white);\n",
       "                }\n",
       "\n",
       "                .geemap-colab .jupyter-button {\n",
       "                    --jp-layout-color3: var(--colab-primary-surface-color, white);\n",
       "                }\n",
       "            </style>\n",
       "            "
      ],
      "text/plain": [
       "<IPython.core.display.HTML object>"
      ]
     },
     "metadata": {},
     "output_type": "display_data"
    }
   ],
   "source": [
    "import ee\n",
    "ee.Initialize()\n",
    "\n",
    "START = '2022-10-01'\n",
    "END = '2022-10-31'\n",
    "\n",
    "# Your region of interest\n",
    "# geojson_path = 'china/map/china_grid.geojson'\n",
    "# roi = geemap.geojson_to_ee(geojson_path)\n",
    "\n",
    "# Manually upload the ROI file and load it from Earth Engine assets\n",
    "roi = ee.FeatureCollection('projects/ee-lengocthanh/assets/1km_china_roi').geometry()\n",
    "\n",
    "dw = ee.ImageCollection('GOOGLE/DYNAMICWORLD/V1') \\\n",
    "    .filterDate(START, END) \\\n",
    "    .filterBounds(roi) \\\n",
    "    .select('label') \\\n",
    "    .mode()\n",
    "\n",
    "# Export as GeoTIFF\n",
    "task = ee.batch.Export.image.toDrive(\n",
    "    image=dw,\n",
    "    description='dw_china_1km',\n",
    "    folder='gee_exports',\n",
    "    fileNamePrefix='dw_china_1km',\n",
    "    region=roi.bounds(),\n",
    "    scale=10,\n",
    "    crs='EPSG:4326',\n",
    "    maxPixels=1e13\n",
    ")\n",
    "task.start()\n"
   ]
  },
  {
   "cell_type": "markdown",
   "id": "5244e60a",
   "metadata": {},
   "source": [
    "### Filter and retain grid cells meeting the requirements\n",
    "\n",
    "Using landcover data to filter grids, keep grids that have large are of classes we concered (tree, grass, crop). Then choose random points in filtered grid to get data.\n",
    "\n",
    "![Filtered Grid](/mnt/data2tb/Transfer-DenseSM-E_pack/images_for_slides/filtered_grids.png)\n"
   ]
  },
  {
   "cell_type": "code",
   "execution_count": null,
   "id": "9659a3c2",
   "metadata": {},
   "outputs": [
    {
     "data": {
      "text/html": [
       "\n",
       "            <style>\n",
       "                .geemap-dark {\n",
       "                    --jp-widgets-color: white;\n",
       "                    --jp-widgets-label-color: white;\n",
       "                    --jp-ui-font-color1: white;\n",
       "                    --jp-layout-color2: #454545;\n",
       "                    background-color: #383838;\n",
       "                }\n",
       "\n",
       "                .geemap-dark .jupyter-button {\n",
       "                    --jp-layout-color3: #383838;\n",
       "                }\n",
       "\n",
       "                .geemap-colab {\n",
       "                    background-color: var(--colab-primary-surface-color, white);\n",
       "                }\n",
       "\n",
       "                .geemap-colab .jupyter-button {\n",
       "                    --jp-layout-color3: var(--colab-primary-surface-color, white);\n",
       "                }\n",
       "            </style>\n",
       "            "
      ],
      "text/plain": [
       "<IPython.core.display.HTML object>"
      ]
     },
     "metadata": {},
     "output_type": "display_data"
    }
   ],
   "source": [
    "import geopandas as gpd\n",
    "import rasterio\n",
    "import rasterio.mask\n",
    "import numpy as np\n",
    "import pandas as pd\n",
    "\n",
    "# Choose 'india' or 'china' as your region\n",
    "region = 'india'\n",
    "\n",
    "# Load and convert your grid to EPSG:4326\n",
    "grid = gpd.read_file(f\"{region}/grid/2km_grid.gpkg\").to_crs(\"EPSG:4326\")\n",
    "\n",
    "# Open the Dynamic World image (already downloaded as GeoTIFF)\n",
    "with rasterio.open(f\"{region}/grid/dw_{region}_1km.tif\") as src:\n",
    "    results = []\n",
    "    # Traverse each grid cell in the GeoDataFrame\n",
    "    for idx, row in grid.iterrows():\n",
    "        # Get the geometry of the grid cell\n",
    "        geom = [row['geometry']]\n",
    "        try:\n",
    "            # Mask the land cover raster with the grid cell geometry\n",
    "            out_image, out_transform = rasterio.mask.mask(src, geom, crop=True)\n",
    "            # Land cover labels are in the first band\n",
    "            label_pixels = out_image[0]\n",
    "            # Remove nodata values\n",
    "            valid_pixels = label_pixels[label_pixels != src.nodata]\n",
    "            \n",
    "            if len(valid_pixels) == 0:\n",
    "                continue\n",
    "            \n",
    "            # Count frequencies of each label \n",
    "            unique, counts = np.unique(valid_pixels, return_counts=True)\n",
    "            label_count = dict(zip(unique, counts))\n",
    "\n",
    "            # Sum up pixels for 3 classes 1 (tree), 2 (grass), 4 (crop)\n",
    "            selected_total = sum(label_count.get(k, 0) for k in [1,2,4])\n",
    "            total = sum(counts)\n",
    "\n",
    "            # Calculate the percentage of selected classes \n",
    "            percent = selected_total / total * 100\n",
    "\n",
    "            # If the percentage is greater than 50%, add the grid cell to results\n",
    "            if percent > 50:\n",
    "                results.append(row['id'])  # or use row.name, or any identifier\n",
    "\n",
    "        except Exception as e:\n",
    "            print(f\"Failed on grid cell {row['id']}: {e}\")\n",
    "\n",
    "# all grid cell ids\n",
    "all_ids = grid['id']\n",
    "\n",
    "# Create a new GeoDataFrame with only the selected grid cells (selected based on the results)\n",
    "selected_grid = grid[grid['id'].isin(results)]\n",
    "\n",
    "# Save to GPKG\n",
    "selected_grid.to_file(f\"{region}/grid/filtered_grid/tree_grass_crops.gpkg\", driver=\"GPKG\")\n"
   ]
  },
  {
   "cell_type": "markdown",
   "id": "19265997",
   "metadata": {},
   "source": [
    "### Không thể dùng code chung để chọn điểm lấy dữ liệu trên vùng Trung Quốc và Ấn Độ\n",
    "\n",
    "Bởi vì có sự đặc biệt ở vùng lấy dữ liệu tại Trung Quốc. Ở đó đa số toàn đồi núi do đó, nếu lấy điểm ngẫu nhiên trong các grid cell được lọc sẽ thường rơi vào các vùng là rừng núi. Cách giải quyết đó là, xét trong từng grid cell, nếu tại ô đó có vùng crop sẽ chọn điểm ngẫu nhiên trên crop, còn không có crop trong ô, thì sẽ phải bắt buộc chọn điểm ngẫu nhiên trên vùng rừng núi.\n",
    "\n",
    "Còn với Ấn Độ, vùng lấy dữ liệu là đồng bằng nên không cần phải làm phức tạp như vậy. Chỉ đơn giản là chọn điểm ngẫu nhiên trong từng grid cell"
   ]
  },
  {
   "cell_type": "markdown",
   "id": "bcff8999",
   "metadata": {},
   "source": [
    "#### Choose random points for India"
   ]
  },
  {
   "cell_type": "code",
   "execution_count": null,
   "id": "6eaee2ba",
   "metadata": {},
   "outputs": [
    {
     "data": {
      "text/html": [
       "\n",
       "            <style>\n",
       "                .geemap-dark {\n",
       "                    --jp-widgets-color: white;\n",
       "                    --jp-widgets-label-color: white;\n",
       "                    --jp-ui-font-color1: white;\n",
       "                    --jp-layout-color2: #454545;\n",
       "                    background-color: #383838;\n",
       "                }\n",
       "\n",
       "                .geemap-dark .jupyter-button {\n",
       "                    --jp-layout-color3: #383838;\n",
       "                }\n",
       "\n",
       "                .geemap-colab {\n",
       "                    background-color: var(--colab-primary-surface-color, white);\n",
       "                }\n",
       "\n",
       "                .geemap-colab .jupyter-button {\n",
       "                    --jp-layout-color3: var(--colab-primary-surface-color, white);\n",
       "                }\n",
       "            </style>\n",
       "            "
      ],
      "text/plain": [
       "<IPython.core.display.HTML object>"
      ]
     },
     "metadata": {},
     "output_type": "display_data"
    }
   ],
   "source": [
    "import geopandas as gpd\n",
    "import shapely\n",
    "import random\n",
    "import pandas as pd\n",
    "\n",
    "# Read the grid from a GPKG file\n",
    "grid = gpd.read_file(f\"india/grid/filtered_grid/tree_grass_crops.gpkg\").to_crs(\"EPSG:4326\")\n",
    "\n",
    "points = []\n",
    "# Traverse each grid cell in the filtered GeoDataFrame\n",
    "for idx, row in grid.iterrows():\n",
    "    polygon = row['geometry']\n",
    "    grid_id = row['id']\n",
    "    # Generate a random point within the polygon of the grid cell\n",
    "    minx, miny, maxx, maxy = polygon.bounds\n",
    "    while True:\n",
    "        random_point = shapely.geometry.Point(random.uniform(minx, maxx), random.uniform(miny, maxy))\n",
    "        if polygon.contains(random_point):\n",
    "            break\n",
    "    points.append({'id': grid_id, 'lon': random_point.x, 'lat': random_point.y})\n",
    "\n",
    "# Save to CSV\n",
    "points_df = pd.DataFrame(points)\n",
    "points_df.to_csv(f\"india/grid/filtered_grid/random_points_in_filtered_grid.csv\", index=False)"
   ]
  },
  {
   "cell_type": "markdown",
   "id": "f95f42e7",
   "metadata": {},
   "source": [
    "#### Choose random points for China"
   ]
  },
  {
   "cell_type": "code",
   "execution_count": null,
   "id": "210bc1bb",
   "metadata": {},
   "outputs": [
    {
     "data": {
      "text/html": [
       "\n",
       "            <style>\n",
       "                .geemap-dark {\n",
       "                    --jp-widgets-color: white;\n",
       "                    --jp-widgets-label-color: white;\n",
       "                    --jp-ui-font-color1: white;\n",
       "                    --jp-layout-color2: #454545;\n",
       "                    background-color: #383838;\n",
       "                }\n",
       "\n",
       "                .geemap-dark .jupyter-button {\n",
       "                    --jp-layout-color3: #383838;\n",
       "                }\n",
       "\n",
       "                .geemap-colab {\n",
       "                    background-color: var(--colab-primary-surface-color, white);\n",
       "                }\n",
       "\n",
       "                .geemap-colab .jupyter-button {\n",
       "                    --jp-layout-color3: var(--colab-primary-surface-color, white);\n",
       "                }\n",
       "            </style>\n",
       "            "
      ],
      "text/plain": [
       "<IPython.core.display.HTML object>"
      ]
     },
     "metadata": {},
     "output_type": "display_data"
    }
   ],
   "source": [
    "import rasterio.mask\n",
    "import rasterio.transform\n",
    "import numpy as np\n",
    "import random\n",
    "import shapely\n",
    "\n",
    "# Paths to filtered grid and land cover raster files\n",
    "grid_path = \"china/grid/filtered_grid/tree_grass_crop.gpkg\"\n",
    "dw_tif_path = \"china/grid/dw_china_1km.tif\"\n",
    "\n",
    "grid = gpd.read_file(grid_path).to_crs(\"EPSG:4326\")\n",
    "\n",
    "points = []\n",
    "\n",
    "# Open land cover raster\n",
    "with rasterio.open(dw_tif_path) as src:\n",
    "    # Traverse each grid cell in the filtered GeoDataFrame\n",
    "    for idx, row in grid.iterrows():\n",
    "        polygon = row['geometry']\n",
    "        grid_id = row['id']\n",
    "        # Get the geometry of the grid cell\n",
    "        geom = [polygon]\n",
    "\n",
    "        try: \n",
    "            out_image, out_transform = rasterio.mask.mask(src, geom, crop=True)\n",
    "            label_pixels = out_image[0]\n",
    "            valid_mask = label_pixels != src.nodata\n",
    "\n",
    "            # find crop pixels (lable : 4) mask\n",
    "            crop_mask = (label_pixels == 4) & valid_mask \n",
    "\n",
    "            # If there are crop pixels in the grid cell, choose a random one\n",
    "            if np.any(crop_mask):\n",
    "                # Get indices of crop_pixels\n",
    "                crop_indices = np.argwhere(crop_mask)\n",
    "                # Choose a random crop pixel\n",
    "                y, x = crop_indices[random.randint(0, len(crop_indices)-1)]\n",
    "                # convert pixel indices to coordinates \n",
    "                lon, lat = rasterio.transform.xy(out_transform, y, x)\n",
    "            \n",
    "            # No crop region, pick random point in grid cell\n",
    "            else:\n",
    "                minx, miny, maxx, maxy = polygon.bounds \n",
    "                while True:\n",
    "                    random_point = shapely.geometry.Point(random.uniform(minx, maxx), random.uniform(miny, maxy))\n",
    "                    if polygon.contains(random_point):\n",
    "                        lon, lat = random_point.x, random_point.y\n",
    "                        break\n",
    "            points.append({'id': grid_id, 'lon': lon, 'lat': lat})\n",
    "        \n",
    "        except Exception as e:\n",
    "            print(f\"Failed on grid cell {grid_id} : {e}\")\n",
    "\n",
    "# Save to CSV\n",
    "points_df = pd.DataFrame(points)\n",
    "points_df.to_csv(\"china/grid/filtered_grid/random_points_in_filtered_grid.csv\", index=False)           \n"
   ]
  }
 ],
 "metadata": {
  "kernelspec": {
   "display_name": "soil_moisture",
   "language": "python",
   "name": "python3"
  },
  "language_info": {
   "codemirror_mode": {
    "name": "ipython",
    "version": 3
   },
   "file_extension": ".py",
   "mimetype": "text/x-python",
   "name": "python",
   "nbconvert_exporter": "python",
   "pygments_lexer": "ipython3",
   "version": "3.10.16"
  }
 },
 "nbformat": 4,
 "nbformat_minor": 5
}
