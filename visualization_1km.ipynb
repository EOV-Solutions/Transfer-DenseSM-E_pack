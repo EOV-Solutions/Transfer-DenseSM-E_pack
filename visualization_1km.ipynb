{
 "cells": [
  {
   "cell_type": "code",
   "execution_count": 2,
   "id": "3c6e9fac",
   "metadata": {},
   "outputs": [],
   "source": [
    "import numpy as np\n",
    "import cv2 \n",
    "import pandas as pd \n",
    "import rasterio\n",
    "import os"
   ]
  },
  {
   "cell_type": "code",
   "execution_count": 3,
   "id": "3a67e244",
   "metadata": {},
   "outputs": [],
   "source": [
    "def scale_to_uint8(arr, arr_min = 0.1, arr_max = 0.7):\n",
    "    arr_scaled = (arr - arr_min) / (arr_max - arr_min)\n",
    "    arr_scaled = np.clip(arr_scaled, 0, 1)\n",
    "    arr_uint8 = (arr_scaled * 255)\n",
    "    arr_uint8[np.isnan(arr)] = 0  # Set NaN to 0\n",
    "    return arr_uint8.astype(np.uint8)\n",
    "\n",
    "# Save as green channel PNGs\n",
    "def save_green_png(arr_uint8, path, scale, mask = None, is_ground_truth = False):\n",
    "    h, w = arr_uint8.shape\n",
    "    rgb = np.zeros((h, w, 3), dtype=np.uint8)\n",
    "    rgb[..., 1] = arr_uint8\n",
    "    # Resize the image to 8x larger using nearest neighbor for clear pixel boundaries\n",
    "    rgb_large = cv2.resize(rgb, (w * scale, h * scale), interpolation=cv2.INTER_NEAREST)\n",
    "    if mask is not None:\n",
    "        if mask.shape != rgb_large.shape[:2]:\n",
    "            raise ValueError(\"Mask shape does not match resized image shape\")\n",
    "        # Apply mask: set all non-agriculture (mask==0) pixels to black\n",
    "        rgb_large[mask == 0] = 0\n",
    "\n",
    "    if is_ground_truth:\n",
    "        gray = rgb_large[:,:,1]\n",
    "        zero_mask = (gray == 0).astype(np.uint8)*255\n",
    "\n",
    "        # Find contours surrouding area that has no data \n",
    "        contours, _ = cv2.findContours(zero_mask, cv2.RETR_EXTERNAL, cv2.CHAIN_APPROX_SIMPLE)\n",
    "        cv2.drawContours(rgb_large, contours, -1, (0, 0, 255), 3)\n",
    "    cv2.imwrite(path, rgb_large)"
   ]
  },
  {
   "cell_type": "code",
   "execution_count": 8,
   "id": "5172412b",
   "metadata": {},
   "outputs": [],
   "source": [
    "with rasterio.open('roi_inference/songcuulong/data/s1_images/S1_2021-01-14.tif') as src:\n",
    "    profile = src.profile \n",
    "    transform = src.transform \n",
    "    crs = src.crs \n",
    "    image_shape = src.shape\n",
    "\n",
    "profile.update(\n",
    "    {\n",
    "        'count' : 1,\n",
    "        'dtype' : 'float32',\n",
    "    }\n",
    ")"
   ]
  },
  {
   "cell_type": "code",
   "execution_count": 10,
   "id": "11954fca",
   "metadata": {},
   "outputs": [
    {
     "name": "stdout",
     "output_type": "stream",
     "text": [
      "Predicted values mean (2021-04-14): 0.4686314681109762\n",
      "Predicted values mean (2020-07-14): 0.4448353046798763\n",
      "Predicted values mean (2020-09-05): 0.45462778882769117\n",
      "Predicted values mean (2021-04-28): 0.4898612205830755\n",
      "Predicted values mean (2020-03-08): 0.41736063624290254\n",
      "Predicted values mean (2020-03-14): 0.4255809942260249\n",
      "Predicted values mean (2020-06-18): 0.45792175179778355\n",
      "Predicted values mean (2020-06-20): 0.4559259670166817\n",
      "Predicted values mean (2021-11-28): 0.5214914794930885\n",
      "Predicted values mean (2020-10-04): 0.5080311028807221\n",
      "Predicted values mean (2020-12-10): 0.5279202001147365\n",
      "Predicted values mean (2020-02-14): 0.4084869345839357\n",
      "Predicted values mean (2020-03-26): 0.4434469292959236\n",
      "Predicted values mean (2020-05-08): 0.4316100950305227\n",
      "Predicted values mean (2020-01-20): 0.4315877940795708\n",
      "Predicted values mean (2021-08-24): 0.4617672563396248\n",
      "Predicted values mean (2020-08-12): 0.41938386157599505\n",
      "Predicted values mean (2021-10-29): 0.5367067187984101\n",
      "Predicted values mean (2021-08-06): 0.4428970237175471\n",
      "Predicted values mean (2020-03-21): 0.4231691373401713\n",
      "Predicted values mean (2020-09-04): 0.4560579493519207\n",
      "Predicted values mean (2020-09-16): 0.46890994684418685\n",
      "Predicted values mean (2021-10-05): 0.5376840669922074\n",
      "Predicted values mean (2020-11-28): 0.5278287995180884\n",
      "Predicted values mean (2020-12-27): 0.4467278849886439\n",
      "Predicted values mean (2020-11-03): 0.5257641353025023\n",
      "Predicted values mean (2021-08-12): 0.4503396517754631\n",
      "Predicted values mean (2020-08-19): 0.4557216378615342\n",
      "Predicted values mean (2021-04-26): 0.48190822561890584\n",
      "Predicted values mean (2021-11-30): 0.497799576009124\n",
      "Predicted values mean (2020-12-29): 0.4411213612710969\n",
      "Predicted values mean (2020-12-15): 0.46563298710537654\n",
      "Predicted values mean (2021-08-26): 0.4758878797415515\n",
      "Predicted values mean (2021-09-12): 0.48878837200224823\n",
      "Predicted values mean (2020-05-01): 0.4805010199077809\n"
     ]
    },
    {
     "ename": "KeyboardInterrupt",
     "evalue": "",
     "output_type": "error",
     "traceback": [
      "\u001b[0;31m---------------------------------------------------------------------------\u001b[0m",
      "\u001b[0;31mKeyboardInterrupt\u001b[0m                         Traceback (most recent call last)",
      "Cell \u001b[0;32mIn[10], line 17\u001b[0m\n\u001b[1;32m     15\u001b[0m \u001b[38;5;28mprint\u001b[39m(\u001b[38;5;124mf\u001b[39m\u001b[38;5;124m\"\u001b[39m\u001b[38;5;124mPredicted values mean (\u001b[39m\u001b[38;5;132;01m{\u001b[39;00mtarget_date\u001b[38;5;132;01m}\u001b[39;00m\u001b[38;5;124m): \u001b[39m\u001b[38;5;132;01m{\u001b[39;00mnp\u001b[38;5;241m.\u001b[39mnanmean(pred)\u001b[38;5;132;01m}\u001b[39;00m\u001b[38;5;124m\"\u001b[39m)\n\u001b[1;32m     16\u001b[0m output_path \u001b[38;5;241m=\u001b[39m os\u001b[38;5;241m.\u001b[39mpath\u001b[38;5;241m.\u001b[39mjoin(\u001b[38;5;124m'\u001b[39m\u001b[38;5;124mroi_inference/songcuulong/sm\u001b[39m\u001b[38;5;124m'\u001b[39m,\u001b[38;5;124mf\u001b[39m\u001b[38;5;124m'\u001b[39m\u001b[38;5;132;01m{\u001b[39;00mtarget_date\u001b[38;5;132;01m}\u001b[39;00m\u001b[38;5;124m_1.tif\u001b[39m\u001b[38;5;124m'\u001b[39m)\n\u001b[0;32m---> 17\u001b[0m \u001b[38;5;28;01mwith\u001b[39;00m \u001b[43mrasterio\u001b[49m\u001b[38;5;241;43m.\u001b[39;49m\u001b[43mopen\u001b[49m\u001b[43m(\u001b[49m\u001b[43moutput_path\u001b[49m\u001b[43m,\u001b[49m\u001b[43m \u001b[49m\u001b[38;5;124;43m'\u001b[39;49m\u001b[38;5;124;43mw\u001b[39;49m\u001b[38;5;124;43m'\u001b[39;49m\u001b[43m,\u001b[49m\u001b[43m \u001b[49m\u001b[38;5;241;43m*\u001b[39;49m\u001b[38;5;241;43m*\u001b[39;49m\u001b[43mprofile\u001b[49m\u001b[43m)\u001b[49m \u001b[38;5;28;01mas\u001b[39;00m dst:\n\u001b[1;32m     18\u001b[0m     dst\u001b[38;5;241m.\u001b[39mwrite(predicted_values\u001b[38;5;241m.\u001b[39mastype(\u001b[38;5;124m'\u001b[39m\u001b[38;5;124mfloat32\u001b[39m\u001b[38;5;124m'\u001b[39m), \u001b[38;5;241m1\u001b[39m)\n",
      "File \u001b[0;32m~/.local/lib/python3.10/site-packages/rasterio/env.py:463\u001b[0m, in \u001b[0;36mensure_env_with_credentials.<locals>.wrapper\u001b[0;34m(*args, **kwds)\u001b[0m\n\u001b[1;32m    460\u001b[0m     session \u001b[38;5;241m=\u001b[39m DummySession()\n\u001b[1;32m    462\u001b[0m \u001b[38;5;28;01mwith\u001b[39;00m env_ctor(session\u001b[38;5;241m=\u001b[39msession):\n\u001b[0;32m--> 463\u001b[0m     \u001b[38;5;28;01mreturn\u001b[39;00m \u001b[43mf\u001b[49m\u001b[43m(\u001b[49m\u001b[38;5;241;43m*\u001b[39;49m\u001b[43margs\u001b[49m\u001b[43m,\u001b[49m\u001b[43m \u001b[49m\u001b[38;5;241;43m*\u001b[39;49m\u001b[38;5;241;43m*\u001b[39;49m\u001b[43mkwds\u001b[49m\u001b[43m)\u001b[49m\n",
      "File \u001b[0;32m~/.local/lib/python3.10/site-packages/rasterio/__init__.py:366\u001b[0m, in \u001b[0;36mopen\u001b[0;34m(fp, mode, driver, width, height, count, crs, transform, dtype, nodata, sharing, opener, **kwargs)\u001b[0m\n\u001b[1;32m    364\u001b[0m writer \u001b[38;5;241m=\u001b[39m get_writer_for_driver(driver)\n\u001b[1;32m    365\u001b[0m \u001b[38;5;28;01mif\u001b[39;00m writer \u001b[38;5;129;01mis\u001b[39;00m \u001b[38;5;129;01mnot\u001b[39;00m \u001b[38;5;28;01mNone\u001b[39;00m:\n\u001b[0;32m--> 366\u001b[0m     dataset \u001b[38;5;241m=\u001b[39m \u001b[43mwriter\u001b[49m\u001b[43m(\u001b[49m\n\u001b[1;32m    367\u001b[0m \u001b[43m        \u001b[49m\u001b[43mpath\u001b[49m\u001b[43m,\u001b[49m\n\u001b[1;32m    368\u001b[0m \u001b[43m        \u001b[49m\u001b[43mmode\u001b[49m\u001b[43m,\u001b[49m\n\u001b[1;32m    369\u001b[0m \u001b[43m        \u001b[49m\u001b[43mdriver\u001b[49m\u001b[38;5;241;43m=\u001b[39;49m\u001b[43mdriver\u001b[49m\u001b[43m,\u001b[49m\n\u001b[1;32m    370\u001b[0m \u001b[43m        \u001b[49m\u001b[43mwidth\u001b[49m\u001b[38;5;241;43m=\u001b[39;49m\u001b[43mwidth\u001b[49m\u001b[43m,\u001b[49m\n\u001b[1;32m    371\u001b[0m \u001b[43m        \u001b[49m\u001b[43mheight\u001b[49m\u001b[38;5;241;43m=\u001b[39;49m\u001b[43mheight\u001b[49m\u001b[43m,\u001b[49m\n\u001b[1;32m    372\u001b[0m \u001b[43m        \u001b[49m\u001b[43mcount\u001b[49m\u001b[38;5;241;43m=\u001b[39;49m\u001b[43mcount\u001b[49m\u001b[43m,\u001b[49m\n\u001b[1;32m    373\u001b[0m \u001b[43m        \u001b[49m\u001b[43mcrs\u001b[49m\u001b[38;5;241;43m=\u001b[39;49m\u001b[43mcrs\u001b[49m\u001b[43m,\u001b[49m\n\u001b[1;32m    374\u001b[0m \u001b[43m        \u001b[49m\u001b[43mtransform\u001b[49m\u001b[38;5;241;43m=\u001b[39;49m\u001b[43mtransform\u001b[49m\u001b[43m,\u001b[49m\n\u001b[1;32m    375\u001b[0m \u001b[43m        \u001b[49m\u001b[43mdtype\u001b[49m\u001b[38;5;241;43m=\u001b[39;49m\u001b[43mdtype\u001b[49m\u001b[43m,\u001b[49m\n\u001b[1;32m    376\u001b[0m \u001b[43m        \u001b[49m\u001b[43mnodata\u001b[49m\u001b[38;5;241;43m=\u001b[39;49m\u001b[43mnodata\u001b[49m\u001b[43m,\u001b[49m\n\u001b[1;32m    377\u001b[0m \u001b[43m        \u001b[49m\u001b[43msharing\u001b[49m\u001b[38;5;241;43m=\u001b[39;49m\u001b[43msharing\u001b[49m\u001b[43m,\u001b[49m\n\u001b[1;32m    378\u001b[0m \u001b[43m        \u001b[49m\u001b[38;5;241;43m*\u001b[39;49m\u001b[38;5;241;43m*\u001b[39;49m\u001b[43mkwargs\u001b[49m\n\u001b[1;32m    379\u001b[0m \u001b[43m    \u001b[49m\u001b[43m)\u001b[49m\n\u001b[1;32m    380\u001b[0m \u001b[38;5;28;01melse\u001b[39;00m:\n\u001b[1;32m    381\u001b[0m     \u001b[38;5;28;01mraise\u001b[39;00m DriverCapabilityError(\n\u001b[1;32m    382\u001b[0m         \u001b[38;5;124m\"\u001b[39m\u001b[38;5;124mWriter does not exist for driver: \u001b[39m\u001b[38;5;132;01m%s\u001b[39;00m\u001b[38;5;124m\"\u001b[39m \u001b[38;5;241m%\u001b[39m \u001b[38;5;28mstr\u001b[39m(driver)\n\u001b[1;32m    383\u001b[0m     )\n",
      "File \u001b[0;32mrasterio/_io.pyx:1629\u001b[0m, in \u001b[0;36mrasterio._io.DatasetWriterBase.__init__\u001b[0;34m()\u001b[0m\n",
      "File \u001b[0;32mrasterio/_base.pyx:970\u001b[0m, in \u001b[0;36mrasterio._base.DatasetBase.meta.__get__\u001b[0;34m()\u001b[0m\n",
      "File \u001b[0;32mrasterio/_base.pyx:603\u001b[0m, in \u001b[0;36mrasterio._base.DatasetBase.nodata.__get__\u001b[0;34m()\u001b[0m\n",
      "File \u001b[0;32mrasterio/_base.pyx:584\u001b[0m, in \u001b[0;36mrasterio._base.DatasetBase.nodatavals.__get__\u001b[0;34m()\u001b[0m\n",
      "File \u001b[0;32mrasterio/_base.pyx:566\u001b[0m, in \u001b[0;36mrasterio._base.DatasetBase.get_nodatavals\u001b[0;34m()\u001b[0m\n",
      "File \u001b[0;32m~/miniconda3/envs/soil_moisture/lib/python3.10/logging/__init__.py:1455\u001b[0m, in \u001b[0;36mLogger.debug\u001b[0;34m(self, msg, *args, **kwargs)\u001b[0m\n\u001b[1;32m   1452\u001b[0m     \u001b[38;5;28mself\u001b[39m\u001b[38;5;241m.\u001b[39mlevel \u001b[38;5;241m=\u001b[39m _checkLevel(level)\n\u001b[1;32m   1453\u001b[0m     \u001b[38;5;28mself\u001b[39m\u001b[38;5;241m.\u001b[39mmanager\u001b[38;5;241m.\u001b[39m_clear_cache()\n\u001b[0;32m-> 1455\u001b[0m \u001b[38;5;28;01mdef\u001b[39;00m\u001b[38;5;250m \u001b[39m\u001b[38;5;21mdebug\u001b[39m(\u001b[38;5;28mself\u001b[39m, msg, \u001b[38;5;241m*\u001b[39margs, \u001b[38;5;241m*\u001b[39m\u001b[38;5;241m*\u001b[39mkwargs):\n\u001b[1;32m   1456\u001b[0m \u001b[38;5;250m    \u001b[39m\u001b[38;5;124;03m\"\"\"\u001b[39;00m\n\u001b[1;32m   1457\u001b[0m \u001b[38;5;124;03m    Log 'msg % args' with severity 'DEBUG'.\u001b[39;00m\n\u001b[1;32m   1458\u001b[0m \n\u001b[0;32m   (...)\u001b[0m\n\u001b[1;32m   1462\u001b[0m \u001b[38;5;124;03m    logger.debug(\"Houston, we have a %s\", \"thorny problem\", exc_info=1)\u001b[39;00m\n\u001b[1;32m   1463\u001b[0m \u001b[38;5;124;03m    \"\"\"\u001b[39;00m\n\u001b[1;32m   1464\u001b[0m     \u001b[38;5;28;01mif\u001b[39;00m \u001b[38;5;28mself\u001b[39m\u001b[38;5;241m.\u001b[39misEnabledFor(DEBUG):\n",
      "\u001b[0;31mKeyboardInterrupt\u001b[0m: "
     ]
    }
   ],
   "source": [
    "target_dates = []\n",
    "combination_folder = 'roi_inference/songcuulong/csv_output/combination'\n",
    "target_dates = []\n",
    "for s1_file in os.listdir(combination_folder):\n",
    "    date = s1_file.split('.')[0].split('_')[0]\n",
    "    target_dates.append(date)\n",
    "scale = 4\n",
    "arr_min = 0.1\n",
    "arr_max = 0.7 \n",
    "mask = None \n",
    "for target_date in target_dates:\n",
    "    predicted = pd.read_csv(f'roi_inference/songcuulong/prediction/{target_date}.csv')\n",
    "    predicted_values = np.array(predicted['Prediction']).reshape(image_shape)\n",
    "    pred = predicted_values[(predicted_values > 0) & (predicted_values < 0.7)]\n",
    "    print(f\"Predicted values mean ({target_date}): {np.nanmean(pred)}\")\n",
    "    output_path = os.path.join('roi_inference/songcuulong/sm',f'{target_date}_1.tif')\n",
    "    with rasterio.open(output_path, 'w', **profile) as dst:\n",
    "        dst.write(predicted_values.astype('float32'), 1)"
   ]
  },
  {
   "cell_type": "markdown",
   "id": "3e88e830",
   "metadata": {},
   "source": [
    "### Visualize Prediction"
   ]
  },
  {
   "cell_type": "code",
   "execution_count": null,
   "id": "16d9e047",
   "metadata": {},
   "outputs": [
    {
     "name": "stdout",
     "output_type": "stream",
     "text": [
      "Predicted values mean: 0.28377616656885923\n",
      "Predicted values mean: 0.2587036497394655\n",
      "Predicted values mean: 0.24646114656398105\n",
      "Predicted values mean: 0.31351878339671124\n",
      "Predicted values mean: 0.3657872538186023\n",
      "Predicted values mean: 0.3813019685421377\n",
      "Predicted values mean: 0.4238395246294964\n",
      "Predicted values mean: 0.4256401350659318\n"
     ]
    }
   ],
   "source": [
    "target_dates = ['2021-01-14','2021-02-15','2021-03-03','2021-04-04','2021-04-20','2021-05-20',\n",
    "                '2021-05-22','2021-07-07','2021-07-09','2021-08-26','2021-10-13','2021-11-28',\n",
    "                '2021-07-25','2021-08-24','2021-10-11','2021-10-29','2021-11-30','2021-12-16']\n",
    "\n",
    "target_dates = ['2021-01-29','2021-02-22','2021-03-28','2021-05-05','2021-07-08','2021-08-09',\n",
    "               '2021-09-26','2021-10-30']\n",
    "\n",
    "scale = 2\n",
    "arr_min = 0.1\n",
    "arr_max = 0.7 \n",
    "mask = None \n",
    "image_shape = (140, 140)\n",
    "for target_date in target_dates:\n",
    "    predicted = pd.read_csv(f'roi_inference/songcuulong/prediction/{target_date}.csv')\n",
    "    predicted_values = np.array(predicted['Prediction']).reshape(image_shape)\n",
    "    g_min = np.nanmin(predicted_values)\n",
    "    g_max = max(np.nanmax(predicted_values), 0.7)\n",
    "    pred_uint8 = scale_to_uint8(predicted_values, g_min, g_max)\n",
    "    pred = predicted_values[(predicted_values > 0) & (predicted_values < 0.7)]\n",
    "    print(f\"Predicted values mean: {np.nanmean(pred)}\")\n",
    "    save_green_png(pred_uint8, f'/mnt/data2tb/Transfer-DenseSM-E_2/roi_inference/songcuulong/output/{target_date}.png', scale, mask)"
   ]
  },
  {
   "cell_type": "code",
   "execution_count": null,
   "id": "ac6ee15c",
   "metadata": {},
   "outputs": [
    {
     "name": "stdout",
     "output_type": "stream",
     "text": [
      "(175, 308)\n",
      "Ground truth values mean for 2021-01-13: 0.46745336055755615\n",
      "(175, 308)\n",
      "Ground truth values mean for 2021-02-14: 0.43579572439193726\n",
      "(175, 308)\n",
      "Ground truth values mean for 2021-03-02: 0.41873666644096375\n",
      "(175, 308)\n",
      "Ground truth values mean for 2021-04-03: 0.4752611517906189\n",
      "(175, 308)\n",
      "Ground truth values mean for 2021-04-19: 0.5314743518829346\n",
      "(175, 308)\n",
      "Ground truth values mean for 2021-05-21: 0.5279948115348816\n",
      "(175, 308)\n",
      "Ground truth values mean for 2021-07-08: 0.4653916358947754\n",
      "(175, 308)\n",
      "Ground truth values mean for 2021-08-25: 0.4732256829738617\n",
      "(175, 308)\n",
      "Ground truth values mean for 2021-10-12: 0.5359135866165161\n",
      "(175, 308)\n",
      "Ground truth values mean for 2021-07-24: 0.4431758224964142\n",
      "(175, 308)\n",
      "Ground truth values mean for 2021-10-28: 0.5224831104278564\n",
      "(175, 308)\n",
      "Ground truth values mean for 2021-11-29: 0.5392063856124878\n",
      "(175, 308)\n",
      "Ground truth values mean for 2021-12-15: 0.5100354552268982\n"
     ]
    }
   ],
   "source": [
    "target_date = '2021-12-15'\n",
    "target_dates = ['2021-01-13','2021-02-14','2021-03-02','2021-04-03','2021-04-19','2021-05-21',\n",
    "                '2021-07-08','2021-08-25','2021-10-12','2021-07-24','2021-10-28','2021-11-29',\n",
    "                '2021-12-15']\n",
    "np.set_printoptions(threshold = np.inf)\n",
    "for target_date in target_dates: \n",
    "    with rasterio.open(f'roi_inference/songcuulong/output/tif/{target_date}.tif') as src:\n",
    "        band1 = src.read(1)\n",
    "        band2 = src.read(2)\n",
    "        band1 = np.where((band1 == 0.0) & (band1 > 0.8), np.nan, band1)\n",
    "        band2 = np.where((band2 == 0.0) & (band2 > 0.8), np.nan, band2)\n",
    "        ground_truth = 0.5*(band1 + band2)\n",
    "        print(src.shape)\n",
    "    \n",
    "\n",
    "    print(f\"Ground truth values mean for {target_date}: {np.nanmean(ground_truth)}\")\n",
    "    g_min = np.nanmin(ground_truth)\n",
    "    g_max = max(np.nanmax(ground_truth), 0.7)\n",
    "    gt_uint8 = scale_to_uint8(ground_truth, g_min, g_max)\n",
    "    \n",
    "\n",
    "    save_green_png(gt_uint8, f'/mnt/data2tb/Transfer-DenseSM-E_2/roi_inference/songcuulong/output/{target_date}_gt.png', 2, mask = None, is_ground_truth=True)"
   ]
  },
  {
   "cell_type": "code",
   "execution_count": null,
   "id": "e94ecee0",
   "metadata": {},
   "outputs": [],
   "source": [
    "import cv2 \n",
    "import numpy as np \n",
    "img = cv2.imread(f'/mnt/data2tb/Transfer-DenseSM-E_2/roi_inference/songcuulong/output/{target_date}.png')\n",
    "if img is None:\n",
    "    print(\"Image not found\")\n",
    "else:\n",
    "    h, w, c = img.shape \n",
    "    block_size = 100\n",
    "    h_trim = h - (h % block_size)\n",
    "    w_trim = w - (w % block_size)\n",
    "    img_cropped = img[:h_trim, :w_trim]\n",
    "\n",
    "    # Reshape and compute mean over each block\n",
    "    img_blocks = img_cropped.reshape(\n",
    "        h_trim // block_size, block_size, \n",
    "        w_trim // block_size, block_size, \n",
    "        c\n",
    "    ) \n",
    "\n",
    "    mean_blocks = img_blocks.mean(axis = (1, 3)).astype(np.uint8)\n",
    "    save_blocks = cv2.resize(mean_blocks, (w, h), interpolation=cv2.INTER_NEAREST)\n",
    "    cv2.imwrite(f'/mnt/data2tb/Transfer-DenseSM-E_2/roi_inference/songcuulong/output/{target_date}_1km.png', save_blocks)\n"
   ]
  },
  {
   "cell_type": "code",
   "execution_count": null,
   "id": "8776d66c",
   "metadata": {},
   "outputs": [],
   "source": []
  }
 ],
 "metadata": {
  "kernelspec": {
   "display_name": "soil_moisture",
   "language": "python",
   "name": "python3"
  },
  "language_info": {
   "codemirror_mode": {
    "name": "ipython",
    "version": 3
   },
   "file_extension": ".py",
   "mimetype": "text/x-python",
   "name": "python",
   "nbconvert_exporter": "python",
   "pygments_lexer": "ipython3",
   "version": "3.10.16"
  }
 },
 "nbformat": 4,
 "nbformat_minor": 5
}
