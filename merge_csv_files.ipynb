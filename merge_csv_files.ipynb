{
 "cells": [
  {
   "cell_type": "code",
   "execution_count": 3,
   "metadata": {},
   "outputs": [],
   "source": [
    "import pandas as pd\n",
    "import os\n",
    "import glob\n",
    "import numpy as np\n",
    "import re"
   ]
  },
  {
   "cell_type": "markdown",
   "metadata": {},
   "source": [
    "# Merge data of all dataset for training"
   ]
  },
  {
   "cell_type": "code",
   "execution_count": null,
   "metadata": {},
   "outputs": [
    {
     "name": "stdout",
     "output_type": "stream",
     "text": [
      "The number of rows in india 100m: 37467\n",
      "The number of rows in china 100m: 19971\n",
      "The number of rows in vietnam 1km: 98431\n",
      "The number of rows in india 1km: 3004\n",
      "The number of rows in china 1km: 3901\n",
      "The number of rows in vietnam 1km 2020: 71226\n",
      "The number of rows in india 1km 2020: 498\n",
      "The number of rows in china 1km 2020: 1919\n"
     ]
    }
   ],
   "source": [
    "# Load the data from CSV files\n",
    "path1 = '100m_data/india/ndvi/india_landsat_merged.csv' # India data 100m\n",
    "path2 = '100m_data/china/ndvi/china_landsat_merged.csv' # China data 100m\n",
    "path3 = '1km_data/vn_points/ndvi/vn_landsat_merged.csv' # Vietnam data 1km\n",
    "path4 = '1km_global_data/india/ndvi/india1km_landsat_merged.csv' # India data 1km\n",
    "path5 = '1km_global_data/china/ndvi/china1km_landsat_merged.csv' # China data 1km\n",
    "\n",
    "data1 = pd.read_csv(path1)\n",
    "data2 = pd.read_csv(path2)\n",
    "data3 = pd.read_csv(path3)\n",
    "data4 = pd.read_csv(path4)\n",
    "data5 = pd.read_csv(path5)                                                 \n",
    "\n",
    "print(f\"The number of rows in india 100m: {len(data1)}\") \n",
    "print(f\"The number of rows in china 100m: {len(data2)}\")                                \n",
    "print(f\"The number of rows in vietnam 1km: {len(data3)}\")                                \n",
    "print(f\"The number of rows in india 1km: {len(data4)}\")                                \n",
    "print(f\"The number of rows in china 1km: {len(data5)}\") \n",
    "\n",
    "data_100 = pd.concat([data1, data2], axis = 0)\n",
    "# Do not need to add location noise to the 100m data\n",
    "# for col in ['12', '13', '14']:\n",
    "#     noise = np.random.normal(loc = 0.0, scale = 0.1, size = len(data_100))\n",
    "#     data_100[col] = np.clip(data_100[col] + noise, 0, 1)\n",
    "\n",
    "data = pd.concat([data_100, data3, data4, data5], axis = 0)\n",
    "data['s_index'] = range(1, len(data) + 1)\n",
    "data.to_csv('/mnt/data2tb/Transfer-DenseSM-E_pack/fusion/delete_this.csv', index = False)"
   ]
  },
  {
   "cell_type": "markdown",
   "metadata": {},
   "source": [
    "#### Balance Data for better training"
   ]
  },
  {
   "cell_type": "code",
   "execution_count": null,
   "metadata": {},
   "outputs": [],
   "source": [
    "df = data[(data['sm'] >= 0.1) & (data['sm'] <= 0.7)]\n",
    "\n",
    "# Balance the data based on soil moisture (sm) values, we split the data into three categories: <= 0.3, 0.3 < sm < 0.4, and >= 0.4\n",
    "central_mask = (df['sm'] >= 0.3) & (df['sm'] <= 0.4)\n",
    "low_mask = df['sm'] < 0.3 \n",
    "high_mask = df['sm'] > 0.4\n",
    "\n",
    "# Keep 50% of the low (<= 0.3) and high (>=0.4) soil moisture samples, and all central samples\n",
    "df_central = df[central_mask]\n",
    "df_low = df[low_mask].sample(frac = 0.5, random_state = 42)\n",
    "df_hight = df[high_mask].sample(frac = 0.5, random_state = 42)\n",
    "\n",
    "# After balancing, we concatenate the three dataframes\n",
    "df_balanced = pd.concat([df_central, df_low, df_hight], axis = 0).reset_index(drop = True)\n",
    "# Save the balanced dataframe to a CSV file\n",
    "df_balanced.to_csv('/mnt/data2tb/Transfer-DenseSM-E_pack/fusion/balanced_deletethis.csv', index = False)"
   ]
  },
  {
   "cell_type": "markdown",
   "metadata": {},
   "source": [
    "#### Visualize the data"
   ]
  },
  {
   "cell_type": "code",
   "execution_count": 10,
   "metadata": {},
   "outputs": [
    {
     "data": {
      "image/png": "[encoded data removed]",
      "text/plain": [
       "<Figure size 800x500 with 1 Axes>"
      ]
     },
     "metadata": {},
     "output_type": "display_data"
    }
   ],
   "source": [
    "import matplotlib.pyplot as plt \n",
    "plt.figure(figsize = (8,5))\n",
    "plt.hist(data['sm'].dropna(), bins = 30, range = (0, 1.0), color = 'skyblue')\n",
    "plt.xlabel('Soil Moisture')\n",
    "plt.ylabel('Frequency')\n",
    "# plt.title('Distribution of SMAP VN soil moisture', fontsize = 20)\n",
    "plt.tight_layout()\n",
    "plt.tick_params(axis = 'both', which = 'major', labelsize = 14)\n",
    "plt.show()"
   ]
  },
  {
   "cell_type": "markdown",
   "metadata": {},
   "source": [
    "# Concatenate file of locations to a merged file"
   ]
  },
  {
   "cell_type": "code",
   "execution_count": null,
   "metadata": {},
   "outputs": [
    {
     "name": "stdout",
     "output_type": "stream",
     "text": [
      "597\n",
      "597\n",
      "3004\n"
     ]
    }
   ],
   "source": [
    "# Directory containing the CSV files data, they are outputs from data_pre/Prepare_samples.ipynb\n",
    "input_dir = '1km_global_data/india/ndvi/output_india_landsat'\n",
    "# File path for the merged output \n",
    "output_path = '1km_global_data/india/ndvi/india1km_merged.csv'\n",
    "\n",
    "# Load all CSV files of all sites the region (network)\n",
    "files = os.listdir(input_dir)\n",
    "print(len(files))\n",
    "\n",
    "network = 'INDIA_1km'\n",
    "# Initialize list to store DataFrames\n",
    "df_list = []\n",
    "\n",
    "# Traverse through each file in the directory\n",
    "for file in files:\n",
    "    station = file.split('.')[0]\n",
    "\n",
    "    # Read CSV\n",
    "    df = pd.read_csv(os.path.join(input_dir, file))\n",
    "\n",
    "    if df.columns[0] in [None, '', 'Unnamed: 0']:\n",
    "        df = df.iloc[:, 1:] # drop the first column\n",
    "\n",
    "    df = df.dropna()\n",
    "\n",
    "    # Insert 'network' and 'station' columns at the beginning\n",
    "    df.insert(0, 'network', network)\n",
    "    df.insert(1, 'station', station)\n",
    "    # print(len(df))\n",
    "    df_list.append(df)\n",
    "\n",
    "print(len(df_list))\n",
    "merged_df = pd.concat(df_list, ignore_index= True)\n",
    "\n",
    "merged_df.insert(0, 's_index', range(1, len(merged_df)+1))\n",
    "\n",
    "# Save to a single csv file\n",
    "merged_df.to_csv(output_path, index=False)\n",
    "print(len(merged_df))\n"
   ]
  }
 ],
 "metadata": {
  "kernelspec": {
   "display_name": "soil_moisture",
   "language": "python",
   "name": "python3"
  },
  "language_info": {
   "codemirror_mode": {
    "name": "ipython",
    "version": 3
   },
   "file_extension": ".py",
   "mimetype": "text/x-python",
   "name": "python",
   "nbconvert_exporter": "python",
   "pygments_lexer": "ipython3",
   "version": "3.10.16"
  }
 },
 "nbformat": 4,
 "nbformat_minor": 2
}
